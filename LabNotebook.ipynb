{
 "cells": [
  {
   "cell_type": "markdown",
   "metadata": {
    "collapsed": true
   },
   "source": [
    "# Project #3. “E.coli outbreak investigation”\n",
    "\n",
    "**Day 1. 04.12.2020**"
   ]
  },
  {
   "cell_type": "markdown",
   "metadata": {},
   "source": [
    "# 0. Import python libs"
   ]
  },
  {
   "cell_type": "code",
   "execution_count": 3,
   "metadata": {},
   "outputs": [],
   "source": [
    "import pandas as pd\n",
    "import numpy as np"
   ]
  },
  {
   "cell_type": "markdown",
   "metadata": {},
   "source": [
    "## 1. Exploring the dataset\n",
    "\n",
    "### 1.1. Download data\n",
    "\n",
    "Dowload SRR292678 - paired end, insert size 470 bp\n",
    "\n",
    "* Forward reads\n",
    "`wget https://d28rh4a8wq0iu5.cloudfront.net/bioinfo/SRR292678sub_S1_L001_R1_001.fastq.gz`\n",
    "\n",
    "* Reverse reads\n",
    "`wget https://d28rh4a8wq0iu5.cloudfront.net/bioinfo/SRR292678sub_S1_L001_R2_001.fastq.gz`\n",
    "\n",
    "Dowload SRR292862 – mate pair, insert size 2 kb\n",
    "\n",
    "* Forward reads\n",
    "`wget https://d28rh4a8wq0iu5.cloudfront.net/bioinfo/SRR292862_S2_L001_R1_001.fastq.gz`\n",
    "\n",
    "* Reverse reads\n",
    "`wget https://d28rh4a8wq0iu5.cloudfront.net/bioinfo/SRR292862_S2_L001_R2_001.fastq.gz`\n",
    "\n",
    "Dowload SRR292770 – mate pair, insert size 6 kb\n",
    "\n",
    "* Forward reads\n",
    "`wget https://d28rh4a8wq0iu5.cloudfront.net/bioinfo/SRR292770_S1_L001_R1_001.fastq.gz`\n",
    "\n",
    "* Reverse reads\n",
    "`wget https://d28rh4a8wq0iu5.cloudfront.net/bioinfo/SRR292770_S1_L001_R2_001.fastq.gz`\n",
    "\n",
    "### 1.2. Unzip\n",
    "\n",
    "`gzip -d SRR292678sub_S1_L001_R1_001.fastq.gz SRR292678sub_S1_L001_R2_001.fastq.gz SRR292862_S2_L001_R1_001.fastq.gz SRR292862_S2_L001_R2_001.fastq.gz SRR292770_S1_L001_R1_001.fastq.gz SRR292770_S1_L001_R2_001.fastq.gz`\n",
    "\n",
    "### 1.3. FastQC reports\n",
    "\n",
    "Run FastQC to generate reports\n",
    "\n",
    "`fastqc -o . SRR292678sub_S1_L001_R1_001.fastq SRR292678sub_S1_L001_R2_001.fastq SRR292862_S2_L001_R1_001.fastq SRR292862_S2_L001_R2_001.fastq SRR292770_S1_L001_R1_001.fastq SRR292770_S1_L001_R2_001.fastq`\n",
    "\n",
    "Number of reads:\n",
    "\n",
    "SRR292678 - paired end, insert size 470 bp\n",
    "\n",
    "* Forward reads: 5499346\n",
    "* Reverse reads: 5499346\n",
    "\n",
    "SRR292862 – mate pair, insert size 2 kb\n",
    "\n",
    "* Forward reads: 5102041\n",
    "* Reverse reads: 5102041\n",
    "\n",
    "SRR292770 – mate pair, insert size 6 kb\n",
    "\n",
    "* Forward reads: 5102041\n",
    "* Reverse reads: 5102041"
   ]
  },
  {
   "cell_type": "markdown",
   "metadata": {},
   "source": [
    "## 2. K-mer profile and genome size estimation\n",
    "\n",
    "To count kmers, we will use the [Jellyfish](http://www.cbcb.umd.edu/software/jellyfish/)\n",
    "\n",
    "### 2.1. Install Jellyfish\n",
    "\n",
    "`brew tap Brewsci/bio`\n",
    "\n",
    "`brew install jellyfish`\n",
    "\n",
    "### 2.2. k-mers count\n",
    "\n",
    "The “jellyfish count” command takes the following options:\n",
    "* -m or “mer” specifies the length\n",
    "* -C tells it to ignore directionality (it treats each read the same as its reverse complement).\n",
    "* -s is an initial estimate for the size of the hash table jellyfish uses, set > genome size\n",
    "* -o specifies the name of the output file. choose a name with the k-mer length in it.\n",
    "\n",
    "Run \"jellyfish count\" command\n",
    "\n",
    "`jellyfish count -m 31 -C -s 5499346 -o kmer SRR292678sub_S1_L001_R1_001.fastq`\n",
    "\n",
    "Create histogram file\n",
    "\n",
    "`jellyfish histo kmer > kmerhist.txt`\n",
    "\n",
    "### 2.3. Visualize k-mer distribution\n",
    "\n",
    "We will remove 1 smallest kmers for better visualization "
   ]
  },
  {
   "cell_type": "code",
   "execution_count": 4,
   "metadata": {},
   "outputs": [
    {
     "data": {
      "text/plain": [
       "<AxesSubplot:xlabel='0'>"
      ]
     },
     "execution_count": 4,
     "metadata": {},
     "output_type": "execute_result"
    },
    {
     "data": {
      "image/png": "[encoded data removed]",
      "text/plain": [
       "<Figure size 432x288 with 1 Axes>"
      ]
     },
     "metadata": {
      "needs_background": "light"
     },
     "output_type": "display_data"
    }
   ],
   "source": [
    "kmerhistdf = pd.read_csv('data/kmerhist.txt', header=None, index_col=0, sep=' ')\n",
    "kmerhistdf[1][1:].plot()"
   ]
  },
  {
   "cell_type": "markdown",
   "metadata": {},
   "source": [
    "We can find the border of the initial peak corresponding to sequence errors at 5"
   ]
  },
  {
   "cell_type": "code",
   "execution_count": 5,
   "metadata": {},
   "outputs": [
    {
     "data": {
      "text/plain": [
       "<AxesSubplot:xlabel='0'>"
      ]
     },
     "execution_count": 5,
     "metadata": {},
     "output_type": "execute_result"
    },
    {
     "data": {
      "image/png": "[encoded data removed]",
      "text/plain": [
       "<Figure size 432x288 with 1 Axes>"
      ]
     },
     "metadata": {
      "needs_background": "light"
     },
     "output_type": "display_data"
    }
   ],
   "source": [
    "bord = 5\n",
    "kmerhistdf[1][bord:].plot()"
   ]
  },
  {
   "cell_type": "markdown",
   "metadata": {},
   "source": [
    "### 2.4. Estimate the genome size\n",
    "\n",
    "To estimate the genome size we will use the method from [here](http://koke.asrc.kanazawa-u.ac.jp/HOWTO/kmer-genomesize.html):"
   ]
  },
  {
   "cell_type": "code",
   "execution_count": 6,
   "metadata": {},
   "outputs": [
    {
     "data": {
      "text/plain": [
       "5199855"
      ]
     },
     "execution_count": 6,
     "metadata": {},
     "output_type": "execute_result"
    }
   ],
   "source": [
    "round((kmerhistdf[5:].index * kmerhistdf[5:][1]).sum() / kmerhistdf.index[np.argmax(kmerhistdf[1][bord:]) + bord])"
   ]
  },
  {
   "cell_type": "markdown",
   "metadata": {},
   "source": [
    "## 3. Assembling E. coli X genome from paired reads\n",
    "\n",
    "### 3.1. Dowload and unpack SPAdes\n",
    "\n",
    "Download SPAdes from: http://cab.spbu.ru/software/spades/\n",
    "\n",
    "Unpack:\n",
    "\n",
    "`tar -xzf SPAdes-3.14.1-Darwin.tar`\n",
    "\n",
    "Test:\n",
    "\n",
    "`spades.py --test`\n",
    "\n",
    "### 3.2. Assembling genome from the library SRR292678\n",
    "\n",
    "Run command:\n",
    "\n",
    "`spades.py --pe1-1 SRR292678sub_S1_L001_R1_001.fastq --pe1-2 SRR292678sub_S1_L001_R2_001.fastq -o assemblySRR292678`\n",
    "\n",
    "### 3.3. Quality of the resulting assembly\n",
    "\n",
    "We use [QUAST](http://cab.cc.spbu.ru/quast/) online tool on scaffolds.fasta and contigs.fasta\n",
    "\n",
    "Result for scaffolds.fasta:\n",
    "\n",
    "<img src=\"img/1_1lib_scaffolds_QUAST.png\">\n",
    "\n",
    "Result for contigs.fasta:\n",
    "\n",
    "<img src=\"img/1_1lib_contigs_QUAST.png\">\n",
    "\n",
    "### 3.4. Effect of read correction\n",
    "\n",
    "Now use jellyfish on corrected files \n",
    "\n",
    "Run \"jellyfish count\" command\n",
    "\n",
    "`jellyfish count -m 31 -C -s 5499346 -o kmercorrected assemblySRR292678/corrected/SRR292678sub_S1_L001_R1_001.00.0_0.cor.fastq`\n",
    "\n",
    "Create histogram file\n",
    "\n",
    "`jellyfish histo kmercorrected > kmercorrectedhist.txt`"
   ]
  },
  {
   "cell_type": "code",
   "execution_count": 10,
   "metadata": {},
   "outputs": [
    {
     "data": {
      "text/plain": [
       "<AxesSubplot:xlabel='0'>"
      ]
     },
     "execution_count": 10,
     "metadata": {},
     "output_type": "execute_result"
    },
    {
     "data": {
      "image/png": "[encoded data removed]",
      "text/plain": [
       "<Figure size 432x288 with 1 Axes>"
      ]
     },
     "metadata": {
      "needs_background": "light"
     },
     "output_type": "display_data"
    }
   ],
   "source": [
    "kmerhistdf = pd.read_csv('data/kmercorrectedhist.txt', header=None, index_col=0, sep=' ')\n",
    "kmerhistdf[1][0:].plot()"
   ]
  },
  {
   "cell_type": "markdown",
   "metadata": {},
   "source": [
    "We can see that there are fewer low frequent reads in corrected reads, which are related to sequencing errors"
   ]
  },
  {
   "cell_type": "markdown",
   "metadata": {},
   "source": [
    "## 4. Impact of reads with large insert size\n",
    "\n",
    "Now we run SPAdes again by consolidating three libraries. We use all three libraries: SRR292678 as a paired ends,  SRR292862 and SRR292770 as a mate pairs.\n",
    "\n",
    "`spades.py --pe1-1 SRR292678sub_S1_L001_R1_001.fastq --pe1-2 SRR292678sub_S1_L001_R2_001.fastq --mp1-1 SRR292862_S2_L001_R1_001.fastq --mp1-2 SRR292862_S2_L001_R2_001.fastq --mp2-1 SRR292770_S1_L001_R1_001.fastq --mp2-2 SRR292770_S1_L001_R2_001.fastq -o assembly2`\n",
    "\n",
    "Again use QUAST tool on scaffolds.fasta and contigs.fasta\n",
    "\n",
    "Result for scaffolds.fasta:\n",
    "\n",
    "<img src=\"img/1_3lib_scaffolds_QUAST.png\">\n",
    "\n",
    "Result for contigs.fasta:\n",
    "\n",
    "<img src=\"img/1_3lib_contigs_QUAST.png\">"
   ]
  },
  {
   "cell_type": "markdown",
   "metadata": {},
   "source": [
    "We can see that N50 become higher, it happened through the use of mate pairs, which increases assembly accuracy when solving repeats."
   ]
  },
  {
   "cell_type": "markdown",
   "metadata": {},
   "source": [
    "## 5. Genome Annotation\n",
    "\n",
    "Install Prokka:\n",
    "\n",
    "`brew install prokka`\n",
    "\n",
    "Run Prokka:\n",
    "\n",
    "`prokka scaffolds.fasta --centre X --compliant`"
   ]
  },
  {
   "cell_type": "markdown",
   "metadata": {},
   "source": [
    "## 6. Finding the closest relative of E. coli X\n",
    "\n",
    "### 6.1. Locate 16S rRNA in the assembled E. coli X genome\n",
    "\n",
    "Run barrnap to find the location of ribosomal RNA genes:\n",
    "\n",
    "`barrnap scaffolds.fasta > ribosomal_rna_search`\n",
    "\n",
    "Look at result:\n",
    "\n",
    "`cat ribosomal_rna_search`\n",
    "\n",
    "Output:\n",
    "\n",
    "`\n",
    "##gff-version 3\n",
    "NODE_184_length_223_cov_0.720238_ID_565088\tbarrnap:0.9\trRNA\t95\t205\t5.6e-18\t-\t.\tName=5S_rRNA;product=5S ribosomal RNA\n",
    "NODE_1_length_2815616_cov_74.3819_ID_564387\tbarrnap:0.9\trRNA\t322892\t323002\t2.2e-11\t-\t.\tName=5S_rRNA;product=5S ribosomal RNA\n",
    "NODE_1_length_2815616_cov_74.3819_ID_564387\tbarrnap:0.9\trRNA\t323101\t326001\t0\t-\t.\tName=23S_rRNA;product=23S ribosomal RNA\n",
    "NODE_1_length_2815616_cov_74.3819_ID_564387\tbarrnap:0.9\trRNA\t326359\t327896\t0\t-\t.\tName=16S_rRNA;product=16S ribosomal RNA\n",
    "NODE_1_length_2815616_cov_74.3819_ID_564387\tbarrnap:0.9\trRNA\t592162\t592272\t6.1e-11\t-\t.\tName=5S_rRNA;product=5S ribosomal RNA\n",
    "NODE_1_length_2815616_cov_74.3819_ID_564387\tbarrnap:0.9\trRNA\t592407\t592517\t2.2e-11\t-\t.\tName=5S_rRNA;product=5S ribosomal RNA\n",
    "NODE_1_length_2815616_cov_74.3819_ID_564387\tbarrnap:0.9\trRNA\t592616\t595516\t0\t-\t.\tName=23S_rRNA;product=23S ribosomal RNA\n",
    "NODE_1_length_2815616_cov_74.3819_ID_564387\tbarrnap:0.9\trRNA\t595966\t597503\t0\t-\t.\tName=16S_rRNA;product=16S ribosomal RNA\n",
    "NODE_1_length_2815616_cov_74.3819_ID_564387\tbarrnap:0.9\trRNA\t2500844\t2500954\t2.2e-11\t-\t.\tName=5S_rRNA;product=5S ribosomal RNA\n",
    "NODE_1_length_2815616_cov_74.3819_ID_564387\tbarrnap:0.9\trRNA\t2501053\t2503953\t0\t-\t.\tName=23S_rRNA;product=23S ribosomal RNA\n",
    "NODE_1_length_2815616_cov_74.3819_ID_564387\tbarrnap:0.9\trRNA\t2504403\t2505940\t0\t-\t.\tName=16S_rRNA;product=16S ribosomal RNA\n",
    "NODE_5_length_236041_cov_85.7779_ID_563492\tbarrnap:0.9\trRNA\t43835\t45372\t0\t+\t.\tName=16S_rRNA;product=16S ribosomal RNA\n",
    "NODE_5_length_236041_cov_85.7779_ID_563492\tbarrnap:0.9\trRNA\t45873\t48630\t0\t+\t.\tName=23S_rRNA;product=23S ribosomal RNA\n",
    "NODE_5_length_236041_cov_85.7779_ID_563492\tbarrnap:0.9\trRNA\t48983\t49084\t5.5e-10\t+\t.\tName=5S_rRNA;product=5S ribosomal RNA\n",
    "NODE_5_length_236041_cov_85.7779_ID_563492\tbarrnap:0.9\trRNA\t85462\t86999\t0\t+\t.\tName=16S_rRNA;product=16S ribosomal RNA\n",
    "NODE_5_length_236041_cov_85.7779_ID_563492\tbarrnap:0.9\trRNA\t87500\t90257\t0\t+\t.\tName=23S_rRNA;product=23S ribosomal RNA\n",
    "NODE_5_length_236041_cov_85.7779_ID_563492\tbarrnap:0.9\trRNA\t90356\t90466\t2.2e-11\t+\t.\tName=5S_rRNA;product=5S ribosomal RNA\n",
    "NODE_6_length_209194_cov_80.6603_ID_563563\tbarrnap:0.9\trRNA\t111955\t113492\t0\t+\t.\tName=16S_rRNA;product=16S ribosomal RNA\n",
    "NODE_6_length_209194_cov_80.6603_ID_563563\tbarrnap:0.9\trRNA\t113850\t116750\t0\t+\t.\tName=23S_rRNA;product=23S ribosomal RNA\n",
    "NODE_6_length_209194_cov_80.6603_ID_563563\tbarrnap:0.9\trRNA\t116849\t116959\t2.2e-11\t+\t.\tName=5S_rRNA;product=5S ribosomal RNA\n",
    "NODE_71_length_720_cov_1.1218_ID_565136\tbarrnap:0.9\trRNA\t314\t719\t9.8e-23\t+\t.\tName=16S_rRNA;product=16S ribosomal RNA (partial);note=aligned only 25 percent of the 16S ribosomal RNA\n",
    "NODE_9_length_87669_cov_86.9393_ID_563775\tbarrnap:0.9\trRNA\t84700\t84810\t2.2e-11\t-\t.\tName=5S_rRNA;product=5S ribosomal RNA\n",
    "NODE_9_length_87669_cov_86.9393_ID_563775\tbarrnap:0.9\trRNA\t84909\t87664\t0\t-\t.\tName=23S_rRNA;product=23S ribosomal RNA\n",
    "`\n",
    "\n",
    "Now we find the sequence of 16S ribosomal RNA"
   ]
  },
  {
   "cell_type": "code",
   "execution_count": 31,
   "metadata": {},
   "outputs": [],
   "source": [
    "seq = ''\n",
    "with open('data/scaffolds.fasta') as f:\n",
    "    seq = f.read()\n",
    "seq = ''.join(seq.split('\\n')[1:])"
   ]
  },
  {
   "cell_type": "code",
   "execution_count": 32,
   "metadata": {},
   "outputs": [
    {
     "data": {
      "text/plain": [
       "'AGGAGGTGATCCAACCGCAGGTTCCCCTACGGTTACCTTGTTACGACTTCACCCCAGTCATGAATCACAAAGTGGTAAGCGCCCTCCCGAAGGTTAAGCTACCTACTTCTTTTGCAACCCACTCCCATGGTGTGACGGGCGGTGTGTACAAGGCCCGGGAACGTATTCACCGTGGCATTCTGATCCACGATTACTAGCGATTCCGACTTCATGGAGTCGAGTTGCAGACTCCAATCCGGACTACGACGCACTTTATGAGGTCCGCTTGCTCTCGCGAGGTCGCTTCTCTTTGTATGCGCCATTGTAGCACGTGTGTAGCCCTGGTCGTAAGGGCCATGATGACTTGACGTCATCCCCACCTTCCTCCAGTTTATCACTGGCAGTCTCCTTTGAGTTCCCGGCCGGACCGCTGGCAACAAAGGATAAGGGTTGCGCTCGTTGCGGGACTTAACCCAACATTTCACAACACGAGCTGACGACAGCCATGCAGCACCTGTCTCACGGTTCCCGAAGGCACATTCTCATCTCTGAAAACTTCCGTGGATGTCAAGACCAGGTAAGGTTCTTCGCGTTGCATCGAATTAAACCACATGCTCCACCGCTTGTGCGGGCCCCCGTCAATTCATTTGAGTTTTAACCTTGCGGCCGTACTCCCCAGGCGGTCGACTTAACGCGTTAGCTCCGGAAGCCACGCCTCAAGGGCACAACCTCCAAGTCGACATCGTTTACGGCGTGGACTACCAGGGTATCTAATCCTGTTTGCTCCCCACGCTTTCGCACCTGAGCGTCAGTCTTCGTCCAGGGGGCCGCCTTCGCCACCGGTATTCCTCCAGATCTCTACGCATTTCACCGCTACACCTGGAATTCTACCCCCCTCTACGAGACTCAAGCTTGCCAGTATCAGATGCAGTTCCCAGGTTGAGCCCGGGGATTTCACATCTGACTTAACAAACCGCCTGCGTGCGCTTTACGCCCAGTAATTCCGATTAACGCTTGCACCCTCCGTATTACCGCGGCTGCTGGCACGGAGTTAGCCGGTGCTTCTTCTGCGGGTAACGTCAATGAGCAAAGGTATTAACTTTACTCCCTTCCTCCCCGCTGAAAGTACTTTACAACCCGAAGGCCTTCTTCATACACGCGGCATGGCTGCATCAGGCTTGCGCCCATTGTGCAATATTCCCCACTGCTGCCTCCCGTAGGAGTCTGGACCGTGTCTCAGTTCCAGTGTGGCTGGTCATCCTCTCAGACCAGCTAGGGATCGTCGCCTTGGTGAGCCGTTACCCCACCAACAAGCTAATCCCATCTGGGCACATCCGATGGCAAGAGGCCCGAAGGTCCCCCTCTTTGGTCTTGCGACGTTATGCGGTATTAGCTACCGTTTCCAGTAGTTATCCCCCTCCATCAGGCAGTTTCCCAGACATTACTCACCCGTCCGCCACTCGTCAGCGAAACAGCAAGCTGTTTCCTGTTACCGTTCGACTTGCATGTGTTAGGCCTGCCGCCAGCGTTCAATCTGAGCCATGATCAAACTCTTCAA'"
      ]
     },
     "execution_count": 32,
     "metadata": {},
     "output_type": "execute_result"
    }
   ],
   "source": [
    "seq[326359:327896]"
   ]
  },
  {
   "cell_type": "markdown",
   "metadata": {},
   "source": [
    "### 6.2. Use BLAST to search for the genome in the RefSeq database\n",
    "\n",
    "Run BLAST (http://blast.ncbi.nlm.nih.gov/):\n",
    "\n",
    "<img src=\"img/blastn.png\">\n",
    "\n",
    "As a result we have 100% match with NC_011748.1 Escherichia coli 55989, complete genome.\n",
    "\n",
    "Next, we download genome sequence by link: https://www.ncbi.nlm.nih.gov/nuccore/NC_011748.1?report=fasta"
   ]
  },
  {
   "cell_type": "markdown",
   "metadata": {},
   "source": [
    "## 7. What is the genetic cause of HUS?\n",
    "\n",
    "We will now analyze the genome-wide alignment of E. coli X and reference genome. We use Mauve tool for it. \n",
    "\n",
    "We select reference genome sequence and annotated E. coli X genome as input files and search for shiga toxin-related genes.\n",
    "\n",
    "<img src=\"img/Mauve1.png\">\n",
    "\n",
    "We find two shiga toxin-related genes:\n",
    "\n",
    "* stxB (3483605 - 3483874), length: 270\n",
    "* stxA (3483886 - 3484845), length: 960"
   ]
  },
  {
   "cell_type": "markdown",
   "metadata": {},
   "source": [
    "## 8. Tracing the source of toxin genes in E. coli X\n",
    "\n",
    "On both sides of shiga toxin-related genes we can find phage proteins. So we can consider that the origin of these toxin genes in E.coli X is phage.\n",
    "\n",
    "<img src=\"img/Mauve2.png\">"
   ]
  },
  {
   "cell_type": "markdown",
   "metadata": {},
   "source": [
    "## 9. Antibiotic resistance detection\n",
    "\n",
    "To search for genes responsible for antibiotic resistance, we use [ResFinder](https://cge.cbs.dtu.dk/services/ResFinder/)\n",
    "\n",
    "Results for E.coli X:\n",
    "\n",
    "<img src=\"img/ResFinder1.png\">\n",
    "\n",
    "Results for reference:\n",
    "\n",
    "<img src=\"img/ResFinder2.png\">\n",
    "\n",
    "We find resistance to:\n",
    "\n",
    "| Antimicrobial | Class | Genetic background |\n",
    "| --- | --- | --- |\n",
    "|ampicillin | beta-lactam | blaTEM-1B (blaTEM-1B_AY458016), blaCTX-M-15 (blaCTX-M-15_AY044436)|\n",
    "| cefepime | beta-lactam | blaCTX-M-15 (blaCTX-M-15_AY044436) |\n",
    "|cefotaxime | beta-lactam | blaCTX-M-15 (blaCTX-M-15_AY044436) |\n",
    "|ceftazidime | beta-lactam | blaCTX-M-15 (blaCTX-M-15_AY044436)\n",
    "|sulfamethoxazole | folate pathway antagonist | sul1 (sul1_DQ914960), sul2 (sul2_HQ840942), sul1 (sul1_AY522923), |sul1 (sul1_AY115475), sul1 (sul1_U12338)|\n",
    "|tetracycline | tetracycline | tet(A) (tet(A)_AJ517790) |\n",
    "|trimethoprim | folate pathway antagonist | dfrA7 (dfrA7_AB161450) |\n",
    "\n",
    "Reference also resistant to tetracycline."
   ]
  },
  {
   "cell_type": "markdown",
   "metadata": {},
   "source": [
    "## 10. Antibiotic resistance mechanism\n",
    "\n",
    "Now we search for β-lactamase enzymes using Mauve tool.\n",
    "\n",
    "We find:\n",
    "\n",
    "* bla_1 gene (5195566 - 5196441) – on the left we find Tn3 family tranposase\n",
    "* bla_2 gene (5199263 - 5200123) – on the left there is tnpR_1 gene"
   ]
  },
  {
   "cell_type": "code",
   "execution_count": null,
   "metadata": {},
   "outputs": [],
   "source": []
  }
 ],
 "metadata": {
  "kernelspec": {
   "display_name": "Python 3",
   "language": "python",
   "name": "python3"
  },
  "language_info": {
   "codemirror_mode": {
    "name": "ipython",
    "version": 3
   },
   "file_extension": ".py",
   "mimetype": "text/x-python",
   "name": "python",
   "nbconvert_exporter": "python",
   "pygments_lexer": "ipython3",
   "version": "3.8.6"
  }
 },
 "nbformat": 4,
 "nbformat_minor": 1
}
